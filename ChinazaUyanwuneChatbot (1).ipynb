{
  "cells": [
    {
      "cell_type": "markdown",
      "metadata": {
        "id": "Ywv_zA9hJDzZ"
      },
      "source": [
        "*Creating a chatbot with Python*"
      ]
    },
    {
      "cell_type": "code",
      "execution_count": 17,
      "metadata": {
        "id": "a8k3Q4fFJNEP"
      },
      "outputs": [],
      "source": [
        "import time\n",
        "\n",
        "\n",
        "# Define responses using Python dictionaries\n",
        "responses = {\n",
        "    \"white sneakers\": [\"Please give me a few minutes.\"],\n",
        "    \"availability timeframe\": \"Unfortunately, there's no size 43 available for purchase at this moment. I am sorry about the inconveniences this might cause you.\",\n",
        "    \"please when will it be available\":\"it will be available for order in 2 weeks.\",\n",
        "    \"cheeseburger and fries\": \"I am sorry but we do not offer this service.\",\n",
        "    \"error\": \"That's okay, Happy to help you, do you need anymore assistance?\",\n",
        "    \"no assistance needed\": \"Happy to help you, do you need any more assistance?\",\n",
        "    \"thank you\": \"Alright, I was glad to assist you. Have a nice day.\",\n",
        "    \"oval shaped handbag\": \"Yes we have a Gucci mini bag priced at 400r(shares picture)\",\n",
        "    \"short floral\": \"These are  pictures of floral gowns in our store(shares pictures)\",\n",
        "    \"pink flay gown\": \"Okay, your orders have been added to cart and purchases is being processed\"\n",
        "}\n",
        "\n",
        "\n",
        "\n"
      ]
    },
    {
      "cell_type": "code",
      "execution_count": 18,
      "metadata": {
        "id": "uAu2iiHrp-tr"
      },
      "outputs": [],
      "source": [
        "# Define a function to generate the responses required by the bots\n",
        "def get_the_response(message):\n",
        "    message = message.lower()\n",
        "    if \"white sneakers\" in message:\n",
        "      for resp in responses[\"white sneakers\"]:\n",
        "        print(\"Response:\", resp)\n",
        "        time.sleep(4)\n",
        "      return responses[\"availability timeframe\"]\n",
        "    elif \"please when will it be available\" in message:\n",
        "      return responses[\"please when will it be available\"]\n",
        "    elif \"cheeseburger and fries\" in message:\n",
        "      return responses[\"cheeseburger and fries\"]\n",
        "    elif \"error\" in message:\n",
        "      return responses[\"error\"]\n",
        "    elif \"thank you\" in message:\n",
        "      return responses[\"thank you\"]\n",
        "    elif \"no\" in message or \"thank you\" in message:\n",
        "      return responses[\"thank you\"]\n",
        "    elif \"oval shaped handbag\" in message:\n",
        "      return responses[\"oval shaped handbag\"]\n",
        "    elif \"short floral\" in message:\n",
        "      return responses[\"short floral\"]\n",
        "    elif \"pink flay gown\" in message:\n",
        "      return responses[\"pink flay gown\"]\n",
        "    elif \"exit\" in message:\n",
        "      return \"Good bye\"\n",
        "    else:\n",
        "        return \"We are an online clothing store and  do not offer this services.\""
      ]
    },
    {
      "cell_type": "code",
      "execution_count": 18,
      "metadata": {
        "id": "axq2NrHJgG0E"
      },
      "outputs": [],
      "source": []
    },
    {
      "cell_type": "code",
      "execution_count": 19,
      "metadata": {
        "colab": {
          "base_uri": "https://localhost:8080/"
        },
        "id": "5sslg3McqDsg",
        "outputId": "cca8a65e-9bb9-4698-cace-b96fc23a6e22"
      },
      "outputs": [
        {
          "output_type": "stream",
          "name": "stdout",
          "text": [
            "Chatbot:Thank you for contacting Victoria Charles Clothing Store. I am your shopping assistant we are online and ready to assist you. \n",
            " How may I help you? \n",
            "User: I saw a white Sneakers in your catalogue on the website, but I can't find the size 43 to add to cart, is a size 43 available for purchase?\n",
            "Response: Please give me a few minutes.\n",
            "Response: Unfortunately, there's no size 43 available for purchase at this moment. I am sorry about the inconveniences this might cause you.\n",
            "User: okay, it's alright, please when will it be available?\n",
            "Response: it will be available for order in 2 weeks.\n",
            "User: Do you have an oval shaped handbag? \n",
            "Response: Yes we have a Gucci mini bag priced at 400r(shares picture)\n",
            "User:  I also want a short floral gown, size 12\n",
            "Response: These are  pictures of floral gowns in our store(shares pictures)\n",
            "User: okay, I want this pink flay gown with this flat sandals(share picture) \n",
            "Response: Okay, your orders have been added to cart and purchases is being processed\n",
            "User: Do you have Cheeseburger and Fries with Milkshake? \n",
            "Response: I am sorry but we do not offer this service.\n",
            "User: Ooh, it's okay, it's an error from me.  \n",
            "Response: That's okay, Happy to help you, do you need anymore assistance?\n",
            "User: No, I'm fine, thank you for your assistance.\n",
            "Response: Alright, I was glad to assist you. Have a nice day.\n",
            "User: exit\n",
            "Response: Good bye\n"
          ]
        }
      ],
      "source": [
        "#\n",
        "def actual_chat():\n",
        "    print(\"Chatbot:Thank you for contacting Victoria Charles Clothing Store. I am your shopping assistant we are online and ready to assist you. \\n How may I help you? \")\n",
        "    while True:\n",
        "        user_input = input(\"User: \").lower()\n",
        "        response = get_the_response(user_input)\n",
        "        print(\"Response:\", response)\n",
        "        if \"exit\" in user_input.lower():\n",
        "            break\n",
        "\n",
        "# Run the chat\n",
        "if __name__ == \"__main__\":\n",
        "    actual_chat()"
      ]
    },
    {
      "cell_type": "code",
      "execution_count": 20,
      "metadata": {
        "id": "E1aLAX-W82GE"
      },
      "outputs": [],
      "source": []
    },
    {
      "cell_type": "code",
      "source": [],
      "metadata": {
        "id": "RUKy06QRysDC"
      },
      "execution_count": null,
      "outputs": []
    }
  ],
  "metadata": {
    "colab": {
      "provenance": []
    },
    "kernelspec": {
      "display_name": "Python 3",
      "name": "python3"
    },
    "language_info": {
      "name": "python"
    }
  },
  "nbformat": 4,
  "nbformat_minor": 0
}